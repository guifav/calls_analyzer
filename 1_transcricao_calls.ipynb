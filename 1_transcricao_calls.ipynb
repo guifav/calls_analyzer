{
  "cells": [
    {
      "cell_type": "markdown",
      "metadata": {
        "id": "view-in-github",
        "colab_type": "text"
      },
      "source": [
        "<a href=\"https://colab.research.google.com/github/guifav/calls_analyzer/blob/main/1_transcricao_calls.ipynb\" target=\"_parent\"><img src=\"https://colab.research.google.com/assets/colab-badge.svg\" alt=\"Open In Colab\"/></a>"
      ]
    },
    {
      "cell_type": "markdown",
      "source": [
        "# Instalando recursos necessários"
      ],
      "metadata": {
        "id": "tLWqAZcEh0or"
      }
    },
    {
      "cell_type": "code",
      "execution_count": null,
      "metadata": {
        "id": "32Nz65KxzH_g"
      },
      "outputs": [],
      "source": [
        "# Instalar Biblioteca OpenAI (Whisper)\n",
        "!pip install openai"
      ]
    },
    {
      "cell_type": "markdown",
      "source": [
        "# Fazer a transcrição e salvar em arquivo JSON"
      ],
      "metadata": {
        "id": "TwBg0TB_EuCe"
      }
    },
    {
      "cell_type": "code",
      "execution_count": null,
      "metadata": {
        "id": "-YHaj6k9xI31"
      },
      "outputs": [],
      "source": [
        "import os\n",
        "import json\n",
        "from google.colab import drive\n",
        "from openai import OpenAI\n",
        "import glob\n",
        "from google.colab import userdata\n",
        "\n",
        "# Retrieve the API key\n",
        "OPENAI_API_KEY = userdata.get('OPENAI_API_KEY')\n",
        "\n",
        "# Montar o Google Drive\n",
        "drive.mount('/content/drive')\n",
        "\n",
        "# Configurar o cliente OpenAI\n",
        "client = OpenAI(api_key=OPENAI_API_KEY)\n",
        "\n",
        "# Definir o diretório raiz do projeto\n",
        "root_dir = '/content/drive/MyDrive/ai_gri'\n",
        "\n",
        "# Lista de pastas dos SDRs\n",
        "sdr_folders = ['jauzibeth_nieves', 'lucas_belelli', 'marcelo_machado']\n",
        "\n",
        "def transcribe_audio(file_path):\n",
        "    with open(file_path, \"rb\") as audio_file:\n",
        "        transcription = client.audio.transcriptions.create(\n",
        "            model=\"whisper-1\",\n",
        "            file=audio_file\n",
        "        )\n",
        "    return transcription.text\n",
        "\n",
        "# Processar cada pasta de SDR\n",
        "for sdr_folder in sdr_folders:\n",
        "    sdr_path = os.path.join(root_dir, sdr_folder)\n",
        "    transcriptions = {}\n",
        "\n",
        "    # Encontrar todos os arquivos MP3 na pasta do SDR\n",
        "    mp3_files = glob.glob(os.path.join(sdr_path, '*.mp3'))\n",
        "\n",
        "    # Transcrever cada arquivo MP3\n",
        "    for mp3_file in mp3_files:\n",
        "        file_name = os.path.basename(mp3_file)\n",
        "        print(f\"Transcrevendo {file_name}...\")\n",
        "        transcription = transcribe_audio(mp3_file)\n",
        "        transcriptions[file_name] = transcription\n",
        "\n",
        "    # Salvar todas as transcrições em um único arquivo JSON\n",
        "    json_file_path = os.path.join(sdr_path, f'{sdr_folder}_transcriptions.json')\n",
        "    with open(json_file_path, 'w') as json_file:\n",
        "        json.dump(transcriptions, json_file, indent=2)\n",
        "\n",
        "    print(f\"Transcrições para {sdr_folder} salvas em {json_file_path}\")\n",
        "\n",
        "print(\"Processamento concluído!\")"
      ]
    }
  ],
  "metadata": {
    "colab": {
      "provenance": [],
      "collapsed_sections": [
        "tLWqAZcEh0or",
        "TwBg0TB_EuCe"
      ],
      "include_colab_link": true
    },
    "kernelspec": {
      "display_name": "Python 3",
      "name": "python3"
    },
    "language_info": {
      "name": "python"
    }
  },
  "nbformat": 4,
  "nbformat_minor": 0
}